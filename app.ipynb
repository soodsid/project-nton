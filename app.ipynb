{
 "cells": [
  {
   "cell_type": "code",
   "execution_count": 12,
   "metadata": {},
   "outputs": [
    {
     "ename": "TypeError",
     "evalue": "cat.dis() missing 1 required positional argument: 'self'",
     "output_type": "error",
     "traceback": [
      "\u001b[1;31m---------------------------------------------------------------------------\u001b[0m",
      "\u001b[1;31mTypeError\u001b[0m                                 Traceback (most recent call last)",
      "\u001b[1;32mc:\\Users\\Sidhantf\\Desktop\\New folder\\project nton\\app.ipynb Cell 1\u001b[0m line \u001b[0;36m3\n\u001b[0;32m     <a href='vscode-notebook-cell:/c%3A/Users/Sidhantf/Desktop/New%20folder/project%20nton/app.ipynb#W0sZmlsZQ%3D%3D?line=28'>29</a>\u001b[0m         \u001b[39msuper\u001b[39m()\u001b[39m.\u001b[39mdisplay(\u001b[39mself\u001b[39m, \u001b[39mself\u001b[39m\u001b[39m.\u001b[39mspecies)\n\u001b[0;32m     <a href='vscode-notebook-cell:/c%3A/Users/Sidhantf/Desktop/New%20folder/project%20nton/app.ipynb#W0sZmlsZQ%3D%3D?line=31'>32</a>\u001b[0m whiskey\u001b[39m=\u001b[39mcat(\u001b[39m\"\u001b[39m\u001b[39mcat\u001b[39m\u001b[39m\"\u001b[39m, \u001b[39m\"\u001b[39m\u001b[39mwhiskey\u001b[39m\u001b[39m\"\u001b[39m)\n\u001b[1;32m---> <a href='vscode-notebook-cell:/c%3A/Users/Sidhantf/Desktop/New%20folder/project%20nton/app.ipynb#W0sZmlsZQ%3D%3D?line=32'>33</a>\u001b[0m cat\u001b[39m.\u001b[39;49mdis()\n",
      "\u001b[1;31mTypeError\u001b[0m: cat.dis() missing 1 required positional argument: 'self'"
     ]
    }
   ],
   "source": [
    "class animal:\n",
    "    def __init__(self, Name, Sound=\"NONE\"):\n",
    "        self.name=Name\n",
    "        self.sound=Sound\n",
    "        \n",
    "    def display(self, species):\n",
    "        self.species=species\n",
    "        print(self.name, self.species, \" makes \", self.sound, \" sound\")\n",
    "\n",
    "class cat(animal):\n",
    "    def __init__(self, species, name):\n",
    "        self.species=species\n",
    "        self.name=name\n",
    "        self.sound=\"meow meow\"\n",
    "        \n",
    "        \n",
    "    def dis():\n",
    "        super().__init__(self, self.name, self.sound)\n",
    "        super().display(self, self.species)\n",
    "\n",
    "class dog(animal):\n",
    "    def __init__(self, species, name):\n",
    "        self.species=species\n",
    "        self.name=name\n",
    "        self.sound=\"woof woof\"\n",
    "    \n",
    "    def dis():\n",
    "        super().__init__(self, self.name, self.sound)\n",
    "        super().display(self, self.species)\n",
    "        \n",
    "        \n",
    "whiskey=cat(\"cat\", \"whiskey\")\n",
    "cat.dis()"
   ]
  },
  {
   "cell_type": "code",
   "execution_count": null,
   "metadata": {},
   "outputs": [],
   "source": []
  },
  {
   "cell_type": "code",
   "execution_count": null,
   "metadata": {},
   "outputs": [],
   "source": []
  }
 ],
 "metadata": {
  "kernelspec": {
   "display_name": "ve",
   "language": "python",
   "name": "python3"
  },
  "language_info": {
   "codemirror_mode": {
    "name": "ipython",
    "version": 3
   },
   "file_extension": ".py",
   "mimetype": "text/x-python",
   "name": "python",
   "nbconvert_exporter": "python",
   "pygments_lexer": "ipython3",
   "version": "3.10.11"
  }
 },
 "nbformat": 4,
 "nbformat_minor": 2
}
