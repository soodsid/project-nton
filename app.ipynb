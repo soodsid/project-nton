{
 "cells": [
  {
   "cell_type": "code",
   "execution_count": 20,
   "metadata": {},
   "outputs": [],
   "source": [
    "class animal:\n",
    "    def __init__(self, species, Name, Sound=\"NONE\"):\n",
    "        self.species=species\n",
    "        self.name=Name\n",
    "        self.sound=Sound\n",
    "        \n",
    "    def display(self):\n",
    "        print(self.name, self.species, \" makes \", self.sound, \" sound\")\n",
    "\n",
    "class cat(animal):\n",
    "    def __init__(self, species, name):\n",
    "        self.sound=\"meow meow\"\n",
    "        super().__init__(species, name, self.sound)\n",
    "        \n",
    "    def dis(self):\n",
    "        super().display()\n",
    "\n",
    "class dog(animal):\n",
    "    def __init__(self, species, name):\n",
    "        self.species=species\n",
    "        self.name=name\n",
    "        self.sound=\"woof woof\"\n",
    "        super().__init__(self.species, self.name, self.sound)\n",
    "        \n",
    "    def dis(self):\n",
    "        super().display()\n",
    "        \n"
   ]
  },
  {
   "cell_type": "code",
   "execution_count": 22,
   "metadata": {},
   "outputs": [
    {
     "name": "stdout",
     "output_type": "stream",
     "text": [
      "whiskey cat  makes  meow meow  sound\n"
     ]
    }
   ],
   "source": [
    "        \n",
    "whiskey=cat(\"cat\", \"whiskey\")\n",
    "whiskey.dis()"
   ]
  },
  {
   "cell_type": "code",
   "execution_count": null,
   "metadata": {},
   "outputs": [],
   "source": []
  }
 ],
 "metadata": {
  "kernelspec": {
   "display_name": "ve",
   "language": "python",
   "name": "python3"
  },
  "language_info": {
   "codemirror_mode": {
    "name": "ipython",
    "version": 3
   },
   "file_extension": ".py",
   "mimetype": "text/x-python",
   "name": "python",
   "nbconvert_exporter": "python",
   "pygments_lexer": "ipython3",
   "version": "3.10.11"
  }
 },
 "nbformat": 4,
 "nbformat_minor": 2
}
